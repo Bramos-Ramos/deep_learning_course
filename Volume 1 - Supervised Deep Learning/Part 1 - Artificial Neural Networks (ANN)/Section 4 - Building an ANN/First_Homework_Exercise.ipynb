{
 "cells": [
  {
   "cell_type": "markdown",
   "metadata": {},
   "source": [
    "# Classification template"
   ]
  },
  {
   "cell_type": "markdown",
   "metadata": {},
   "source": [
    "## Importing the libraries\n"
   ]
  },
  {
   "cell_type": "code",
   "execution_count": 1,
   "metadata": {},
   "outputs": [],
   "source": [
    "import numpy as np\n",
    "import matplotlib.pyplot as plt\n",
    "import pandas as pd"
   ]
  },
  {
   "cell_type": "markdown",
   "metadata": {},
   "source": [
    "## Importing the dataset"
   ]
  },
  {
   "cell_type": "code",
   "execution_count": 2,
   "metadata": {},
   "outputs": [],
   "source": [
    "dataset = pd.read_csv('Churn_Modelling.csv')\n",
    "X = dataset.iloc[:, 3:13].values\n",
    "y = dataset.iloc[:, 13].values"
   ]
  },
  {
   "cell_type": "code",
   "execution_count": 3,
   "metadata": {},
   "outputs": [
    {
     "data": {
      "text/html": [
       "<div>\n",
       "<style scoped>\n",
       "    .dataframe tbody tr th:only-of-type {\n",
       "        vertical-align: middle;\n",
       "    }\n",
       "\n",
       "    .dataframe tbody tr th {\n",
       "        vertical-align: top;\n",
       "    }\n",
       "\n",
       "    .dataframe thead th {\n",
       "        text-align: right;\n",
       "    }\n",
       "</style>\n",
       "<table border=\"1\" class=\"dataframe\">\n",
       "  <thead>\n",
       "    <tr style=\"text-align: right;\">\n",
       "      <th></th>\n",
       "      <th>RowNumber</th>\n",
       "      <th>CustomerId</th>\n",
       "      <th>Surname</th>\n",
       "      <th>CreditScore</th>\n",
       "      <th>Geography</th>\n",
       "      <th>Gender</th>\n",
       "      <th>Age</th>\n",
       "      <th>Tenure</th>\n",
       "      <th>Balance</th>\n",
       "      <th>NumOfProducts</th>\n",
       "      <th>HasCrCard</th>\n",
       "      <th>IsActiveMember</th>\n",
       "      <th>EstimatedSalary</th>\n",
       "      <th>Exited</th>\n",
       "    </tr>\n",
       "  </thead>\n",
       "  <tbody>\n",
       "    <tr>\n",
       "      <th>0</th>\n",
       "      <td>1</td>\n",
       "      <td>15634602</td>\n",
       "      <td>Hargrave</td>\n",
       "      <td>619</td>\n",
       "      <td>France</td>\n",
       "      <td>Female</td>\n",
       "      <td>42</td>\n",
       "      <td>2</td>\n",
       "      <td>0.00</td>\n",
       "      <td>1</td>\n",
       "      <td>1</td>\n",
       "      <td>1</td>\n",
       "      <td>101348.88</td>\n",
       "      <td>1</td>\n",
       "    </tr>\n",
       "    <tr>\n",
       "      <th>1</th>\n",
       "      <td>2</td>\n",
       "      <td>15647311</td>\n",
       "      <td>Hill</td>\n",
       "      <td>608</td>\n",
       "      <td>Spain</td>\n",
       "      <td>Female</td>\n",
       "      <td>41</td>\n",
       "      <td>1</td>\n",
       "      <td>83807.86</td>\n",
       "      <td>1</td>\n",
       "      <td>0</td>\n",
       "      <td>1</td>\n",
       "      <td>112542.58</td>\n",
       "      <td>0</td>\n",
       "    </tr>\n",
       "    <tr>\n",
       "      <th>2</th>\n",
       "      <td>3</td>\n",
       "      <td>15619304</td>\n",
       "      <td>Onio</td>\n",
       "      <td>502</td>\n",
       "      <td>France</td>\n",
       "      <td>Female</td>\n",
       "      <td>42</td>\n",
       "      <td>8</td>\n",
       "      <td>159660.80</td>\n",
       "      <td>3</td>\n",
       "      <td>1</td>\n",
       "      <td>0</td>\n",
       "      <td>113931.57</td>\n",
       "      <td>1</td>\n",
       "    </tr>\n",
       "    <tr>\n",
       "      <th>3</th>\n",
       "      <td>4</td>\n",
       "      <td>15701354</td>\n",
       "      <td>Boni</td>\n",
       "      <td>699</td>\n",
       "      <td>France</td>\n",
       "      <td>Female</td>\n",
       "      <td>39</td>\n",
       "      <td>1</td>\n",
       "      <td>0.00</td>\n",
       "      <td>2</td>\n",
       "      <td>0</td>\n",
       "      <td>0</td>\n",
       "      <td>93826.63</td>\n",
       "      <td>0</td>\n",
       "    </tr>\n",
       "    <tr>\n",
       "      <th>4</th>\n",
       "      <td>5</td>\n",
       "      <td>15737888</td>\n",
       "      <td>Mitchell</td>\n",
       "      <td>850</td>\n",
       "      <td>Spain</td>\n",
       "      <td>Female</td>\n",
       "      <td>43</td>\n",
       "      <td>2</td>\n",
       "      <td>125510.82</td>\n",
       "      <td>1</td>\n",
       "      <td>1</td>\n",
       "      <td>1</td>\n",
       "      <td>79084.10</td>\n",
       "      <td>0</td>\n",
       "    </tr>\n",
       "  </tbody>\n",
       "</table>\n",
       "</div>"
      ],
      "text/plain": [
       "   RowNumber  CustomerId   Surname  CreditScore Geography  Gender  Age  \\\n",
       "0          1    15634602  Hargrave          619    France  Female   42   \n",
       "1          2    15647311      Hill          608     Spain  Female   41   \n",
       "2          3    15619304      Onio          502    France  Female   42   \n",
       "3          4    15701354      Boni          699    France  Female   39   \n",
       "4          5    15737888  Mitchell          850     Spain  Female   43   \n",
       "\n",
       "   Tenure    Balance  NumOfProducts  HasCrCard  IsActiveMember  \\\n",
       "0       2       0.00              1          1               1   \n",
       "1       1   83807.86              1          0               1   \n",
       "2       8  159660.80              3          1               0   \n",
       "3       1       0.00              2          0               0   \n",
       "4       2  125510.82              1          1               1   \n",
       "\n",
       "   EstimatedSalary  Exited  \n",
       "0        101348.88       1  \n",
       "1        112542.58       0  \n",
       "2        113931.57       1  \n",
       "3         93826.63       0  \n",
       "4         79084.10       0  "
      ]
     },
     "execution_count": 3,
     "metadata": {},
     "output_type": "execute_result"
    }
   ],
   "source": [
    "dataset.head()"
   ]
  },
  {
   "cell_type": "markdown",
   "metadata": {},
   "source": [
    "## Encoding categorical data"
   ]
  },
  {
   "cell_type": "code",
   "execution_count": 4,
   "metadata": {},
   "outputs": [
    {
     "name": "stderr",
     "output_type": "stream",
     "text": [
      "C:\\ProgramData\\Anaconda3\\lib\\site-packages\\sklearn\\preprocessing\\_encoders.py:368: FutureWarning: The handling of integer data will change in version 0.22. Currently, the categories are determined based on the range [0, max(values)], while in the future they will be determined based on the unique values.\n",
      "If you want the future behaviour and silence this warning, you can specify \"categories='auto'\".\n",
      "In case you used a LabelEncoder before this OneHotEncoder to convert the categories to integers, then you can now use the OneHotEncoder directly.\n",
      "  warnings.warn(msg, FutureWarning)\n",
      "C:\\ProgramData\\Anaconda3\\lib\\site-packages\\sklearn\\preprocessing\\_encoders.py:390: DeprecationWarning: The 'categorical_features' keyword is deprecated in version 0.20 and will be removed in 0.22. You can use the ColumnTransformer instead.\n",
      "  \"use the ColumnTransformer instead.\", DeprecationWarning)\n"
     ]
    }
   ],
   "source": [
    "from sklearn.preprocessing import LabelEncoder, OneHotEncoder\n",
    "labelencoder_X_1 = LabelEncoder()\n",
    "X[:, 1] = labelencoder_X_1.fit_transform(X[:, 1])\n",
    "labelencoder_X_2 = LabelEncoder()\n",
    "X[:, 2] = labelencoder_X_2.fit_transform(X[:, 2])\n",
    "onehotencoder = OneHotEncoder(categorical_features = [1])\n",
    "X = onehotencoder.fit_transform(X).toarray()\n",
    "X = X[:, 1:]"
   ]
  },
  {
   "cell_type": "markdown",
   "metadata": {},
   "source": [
    "## Splitting the dataset into the Training set and Test set"
   ]
  },
  {
   "cell_type": "code",
   "execution_count": 5,
   "metadata": {},
   "outputs": [],
   "source": [
    "from sklearn.model_selection import train_test_split\n",
    "X_train, X_test, y_train, y_test = train_test_split(X, y, test_size = 0.2, random_state = 0)"
   ]
  },
  {
   "cell_type": "markdown",
   "metadata": {},
   "source": [
    "## Feature Scaling"
   ]
  },
  {
   "cell_type": "code",
   "execution_count": 6,
   "metadata": {},
   "outputs": [],
   "source": [
    "from sklearn.preprocessing import StandardScaler\n",
    "sc = StandardScaler()\n",
    "X_train = sc.fit_transform(X_train)\n",
    "X_test = sc.transform(X_test)"
   ]
  },
  {
   "cell_type": "markdown",
   "metadata": {},
   "source": [
    "## Importing the Keras libraries and packages"
   ]
  },
  {
   "cell_type": "code",
   "execution_count": 7,
   "metadata": {},
   "outputs": [
    {
     "name": "stderr",
     "output_type": "stream",
     "text": [
      "Using TensorFlow backend.\n"
     ]
    }
   ],
   "source": [
    "import keras\n",
    "from keras.models import Sequential\n",
    "from keras.layers import Dense"
   ]
  },
  {
   "cell_type": "markdown",
   "metadata": {},
   "source": [
    "## Creating the ANN"
   ]
  },
  {
   "cell_type": "code",
   "execution_count": 8,
   "metadata": {},
   "outputs": [
    {
     "name": "stdout",
     "output_type": "stream",
     "text": [
      "WARNING:tensorflow:From C:\\ProgramData\\Anaconda3\\lib\\site-packages\\tensorflow\\python\\framework\\op_def_library.py:263: colocate_with (from tensorflow.python.framework.ops) is deprecated and will be removed in a future version.\n",
      "Instructions for updating:\n",
      "Colocations handled automatically by placer.\n"
     ]
    }
   ],
   "source": [
    "# Initialising the ANN\n",
    "classifier = Sequential()\n",
    "\n",
    "# Adding the input layer and the first hidden layer\n",
    "classifier.add(Dense(units = 6, kernel_initializer = 'uniform', activation = 'relu', input_dim = 11))\n",
    "\n",
    "# Adding the second hidden layer\n",
    "classifier.add(Dense(units = 6, kernel_initializer = 'uniform', activation = 'relu'))\n",
    "\n",
    "# Adding the output layer\n",
    "classifier.add(Dense(units = 1, kernel_initializer = 'uniform', activation = 'sigmoid'))\n",
    "\n",
    "# Compiling the ANN\n",
    "classifier.compile(optimizer = 'adam', loss = 'binary_crossentropy', metrics = ['accuracy'])"
   ]
  },
  {
   "cell_type": "markdown",
   "metadata": {},
   "source": [
    "## Fitting the ANN to the Training set"
   ]
  },
  {
   "cell_type": "code",
   "execution_count": 9,
   "metadata": {},
   "outputs": [
    {
     "name": "stdout",
     "output_type": "stream",
     "text": [
      "WARNING:tensorflow:From C:\\ProgramData\\Anaconda3\\lib\\site-packages\\tensorflow\\python\\ops\\math_ops.py:3066: to_int32 (from tensorflow.python.ops.math_ops) is deprecated and will be removed in a future version.\n",
      "Instructions for updating:\n",
      "Use tf.cast instead.\n",
      "Epoch 1/100\n",
      "8000/8000 [==============================] - 2s 229us/step - loss: 0.4798 - acc: 0.7967\n",
      "Epoch 2/100\n",
      "8000/8000 [==============================] - 1s 118us/step - loss: 0.4014 - acc: 0.8134\n",
      "Epoch 3/100\n",
      "8000/8000 [==============================] - 1s 119us/step - loss: 0.3688 - acc: 0.8490\n",
      "Epoch 4/100\n",
      "8000/8000 [==============================] - 1s 119us/step - loss: 0.3547 - acc: 0.8575\n",
      "Epoch 5/100\n",
      "8000/8000 [==============================] - 1s 123us/step - loss: 0.3495 - acc: 0.8561\n",
      "Epoch 6/100\n",
      "8000/8000 [==============================] - 1s 119us/step - loss: 0.3474 - acc: 0.8592\n",
      "Epoch 7/100\n",
      "8000/8000 [==============================] - 1s 132us/step - loss: 0.3462 - acc: 0.8596\n",
      "Epoch 8/100\n",
      "8000/8000 [==============================] - 1s 106us/step - loss: 0.3447 - acc: 0.8572\n",
      "Epoch 9/100\n",
      "8000/8000 [==============================] - 1s 102us/step - loss: 0.3446 - acc: 0.8605\n",
      "Epoch 10/100\n",
      "8000/8000 [==============================] - 1s 104us/step - loss: 0.3431 - acc: 0.8606\n",
      "Epoch 11/100\n",
      "8000/8000 [==============================] - 1s 103us/step - loss: 0.3424 - acc: 0.8614\n",
      "Epoch 12/100\n",
      "8000/8000 [==============================] - 1s 106us/step - loss: 0.3417 - acc: 0.8606\n",
      "Epoch 13/100\n",
      "8000/8000 [==============================] - 1s 104us/step - loss: 0.3413 - acc: 0.8602\n",
      "Epoch 14/100\n",
      "8000/8000 [==============================] - 1s 119us/step - loss: 0.3410 - acc: 0.8602\n",
      "Epoch 15/100\n",
      "8000/8000 [==============================] - 1s 107us/step - loss: 0.3397 - acc: 0.8614\n",
      "Epoch 16/100\n",
      "8000/8000 [==============================] - 1s 104us/step - loss: 0.3395 - acc: 0.8616\n",
      "Epoch 17/100\n",
      "8000/8000 [==============================] - 1s 106us/step - loss: 0.3394 - acc: 0.8620\n",
      "Epoch 18/100\n",
      "8000/8000 [==============================] - 1s 103us/step - loss: 0.3393 - acc: 0.8607\n",
      "Epoch 19/100\n",
      "8000/8000 [==============================] - 1s 106us/step - loss: 0.3384 - acc: 0.8626\n",
      "Epoch 20/100\n",
      "8000/8000 [==============================] - 1s 104us/step - loss: 0.3392 - acc: 0.8611\n",
      "Epoch 21/100\n",
      "8000/8000 [==============================] - 1s 118us/step - loss: 0.3380 - acc: 0.8637\n",
      "Epoch 22/100\n",
      "8000/8000 [==============================] - 1s 107us/step - loss: 0.3379 - acc: 0.8615\n",
      "Epoch 23/100\n",
      "8000/8000 [==============================] - 1s 104us/step - loss: 0.3376 - acc: 0.8617\n",
      "Epoch 24/100\n",
      "8000/8000 [==============================] - 1s 108us/step - loss: 0.3375 - acc: 0.8637\n",
      "Epoch 25/100\n",
      "8000/8000 [==============================] - 1s 103us/step - loss: 0.3378 - acc: 0.8624\n",
      "Epoch 26/100\n",
      "8000/8000 [==============================] - 1s 114us/step - loss: 0.3376 - acc: 0.8612\n",
      "Epoch 27/100\n",
      "8000/8000 [==============================] - 1s 105us/step - loss: 0.3374 - acc: 0.8619\n",
      "Epoch 28/100\n",
      "8000/8000 [==============================] - 1s 149us/step - loss: 0.3372 - acc: 0.8626\n",
      "Epoch 29/100\n",
      "8000/8000 [==============================] - 1s 113us/step - loss: 0.3372 - acc: 0.8605\n",
      "Epoch 30/100\n",
      "8000/8000 [==============================] - 1s 114us/step - loss: 0.3366 - acc: 0.8634\n",
      "Epoch 31/100\n",
      "8000/8000 [==============================] - 1s 108us/step - loss: 0.3370 - acc: 0.8636\n",
      "Epoch 32/100\n",
      "8000/8000 [==============================] - 1s 108us/step - loss: 0.3370 - acc: 0.8616\n",
      "Epoch 33/100\n",
      "8000/8000 [==============================] - 1s 115us/step - loss: 0.3362 - acc: 0.8629\n",
      "Epoch 34/100\n",
      "8000/8000 [==============================] - 1s 120us/step - loss: 0.3366 - acc: 0.8636\n",
      "Epoch 35/100\n",
      "8000/8000 [==============================] - 1s 114us/step - loss: 0.3367 - acc: 0.8642\n",
      "Epoch 36/100\n",
      "8000/8000 [==============================] - 1s 105us/step - loss: 0.3360 - acc: 0.8649\n",
      "Epoch 37/100\n",
      "8000/8000 [==============================] - 1s 110us/step - loss: 0.3361 - acc: 0.8645\n",
      "Epoch 38/100\n",
      "8000/8000 [==============================] - 1s 104us/step - loss: 0.3361 - acc: 0.8634\n",
      "Epoch 39/100\n",
      "8000/8000 [==============================] - 1s 106us/step - loss: 0.3359 - acc: 0.8631\n",
      "Epoch 40/100\n",
      "8000/8000 [==============================] - 1s 109us/step - loss: 0.3368 - acc: 0.8637\n",
      "Epoch 41/100\n",
      "8000/8000 [==============================] - 1s 112us/step - loss: 0.3363 - acc: 0.8630\n",
      "Epoch 42/100\n",
      "8000/8000 [==============================] - 1s 129us/step - loss: 0.3359 - acc: 0.8639\n",
      "Epoch 43/100\n",
      "8000/8000 [==============================] - 1s 114us/step - loss: 0.3362 - acc: 0.8634\n",
      "Epoch 44/100\n",
      "8000/8000 [==============================] - 1s 114us/step - loss: 0.3359 - acc: 0.8626\n",
      "Epoch 45/100\n",
      "8000/8000 [==============================] - 1s 114us/step - loss: 0.3358 - acc: 0.8647\n",
      "Epoch 46/100\n",
      "8000/8000 [==============================] - 1s 117us/step - loss: 0.3357 - acc: 0.8654\n",
      "Epoch 47/100\n",
      "8000/8000 [==============================] - 1s 133us/step - loss: 0.3353 - acc: 0.8624\n",
      "Epoch 48/100\n",
      "8000/8000 [==============================] - 1s 120us/step - loss: 0.3354 - acc: 0.8630\n",
      "Epoch 49/100\n",
      "8000/8000 [==============================] - 1s 112us/step - loss: 0.3357 - acc: 0.8630\n",
      "Epoch 50/100\n",
      "8000/8000 [==============================] - 1s 117us/step - loss: 0.3362 - acc: 0.8627\n",
      "Epoch 51/100\n",
      "8000/8000 [==============================] - 1s 114us/step - loss: 0.3355 - acc: 0.8615\n",
      "Epoch 52/100\n",
      "8000/8000 [==============================] - 1s 116us/step - loss: 0.3351 - acc: 0.8642\n",
      "Epoch 53/100\n",
      "8000/8000 [==============================] - 1s 114us/step - loss: 0.3362 - acc: 0.8627\n",
      "Epoch 54/100\n",
      "8000/8000 [==============================] - 1s 133us/step - loss: 0.3349 - acc: 0.8630\n",
      "Epoch 55/100\n",
      "8000/8000 [==============================] - 1s 114us/step - loss: 0.3351 - acc: 0.8627\n",
      "Epoch 56/100\n",
      "8000/8000 [==============================] - 1s 116us/step - loss: 0.3349 - acc: 0.8636\n",
      "Epoch 57/100\n",
      "8000/8000 [==============================] - 1s 114us/step - loss: 0.3351 - acc: 0.8624\n",
      "Epoch 58/100\n",
      "8000/8000 [==============================] - 1s 115us/step - loss: 0.3347 - acc: 0.8629\n",
      "Epoch 59/100\n",
      "8000/8000 [==============================] - 1s 116us/step - loss: 0.3352 - acc: 0.8624\n",
      "Epoch 60/100\n",
      "8000/8000 [==============================] - 1s 135us/step - loss: 0.3350 - acc: 0.8635\n",
      "Epoch 61/100\n",
      "8000/8000 [==============================] - 1s 121us/step - loss: 0.3345 - acc: 0.8644\n",
      "Epoch 62/100\n",
      "8000/8000 [==============================] - 1s 115us/step - loss: 0.3353 - acc: 0.8625\n",
      "Epoch 63/100\n",
      "8000/8000 [==============================] - 1s 117us/step - loss: 0.3346 - acc: 0.8631\n",
      "Epoch 64/100\n",
      "8000/8000 [==============================] - 1s 116us/step - loss: 0.3348 - acc: 0.8617 0s - loss: 0.32\n",
      "Epoch 65/100\n",
      "8000/8000 [==============================] - 1s 115us/step - loss: 0.3348 - acc: 0.8649\n",
      "Epoch 66/100\n",
      "8000/8000 [==============================] - 1s 132us/step - loss: 0.3353 - acc: 0.8620\n",
      "Epoch 67/100\n",
      "8000/8000 [==============================] - 1s 121us/step - loss: 0.3341 - acc: 0.8640\n",
      "Epoch 68/100\n",
      "8000/8000 [==============================] - 1s 112us/step - loss: 0.3345 - acc: 0.8635\n",
      "Epoch 69/100\n",
      "8000/8000 [==============================] - 1s 116us/step - loss: 0.3349 - acc: 0.8625\n",
      "Epoch 70/100\n",
      "8000/8000 [==============================] - 1s 111us/step - loss: 0.3338 - acc: 0.8622\n",
      "Epoch 71/100\n",
      "8000/8000 [==============================] - 1s 116us/step - loss: 0.3343 - acc: 0.8640\n",
      "Epoch 72/100\n",
      "8000/8000 [==============================] - 1s 119us/step - loss: 0.3349 - acc: 0.8620\n",
      "Epoch 73/100\n",
      "8000/8000 [==============================] - 1s 126us/step - loss: 0.3348 - acc: 0.8640\n",
      "Epoch 74/100\n",
      "8000/8000 [==============================] - 1s 126us/step - loss: 0.3342 - acc: 0.8631\n",
      "Epoch 75/100\n",
      "8000/8000 [==============================] - 1s 116us/step - loss: 0.3343 - acc: 0.8635\n",
      "Epoch 76/100\n",
      "8000/8000 [==============================] - 1s 114us/step - loss: 0.3340 - acc: 0.8636\n",
      "Epoch 77/100\n",
      "8000/8000 [==============================] - 1s 116us/step - loss: 0.3344 - acc: 0.8627\n",
      "Epoch 78/100\n",
      "8000/8000 [==============================] - 1s 117us/step - loss: 0.3334 - acc: 0.8640\n",
      "Epoch 79/100\n"
     ]
    },
    {
     "name": "stdout",
     "output_type": "stream",
     "text": [
      "8000/8000 [==============================] - 1s 115us/step - loss: 0.3343 - acc: 0.8642\n",
      "Epoch 80/100\n",
      "8000/8000 [==============================] - 1s 99us/step - loss: 0.3335 - acc: 0.8644\n",
      "Epoch 81/100\n",
      "8000/8000 [==============================] - 1s 98us/step - loss: 0.3340 - acc: 0.8647\n",
      "Epoch 82/100\n",
      "8000/8000 [==============================] - 1s 99us/step - loss: 0.3347 - acc: 0.8635\n",
      "Epoch 83/100\n",
      "8000/8000 [==============================] - 1s 98us/step - loss: 0.3338 - acc: 0.8644: 0s - loss: 0.3338\n",
      "Epoch 84/100\n",
      "8000/8000 [==============================] - 1s 100us/step - loss: 0.3345 - acc: 0.8652\n",
      "Epoch 85/100\n",
      "8000/8000 [==============================] - 1s 99us/step - loss: 0.3342 - acc: 0.8640\n",
      "Epoch 86/100\n",
      "8000/8000 [==============================] - 1s 107us/step - loss: 0.3334 - acc: 0.8646\n",
      "Epoch 87/100\n",
      "8000/8000 [==============================] - 1s 108us/step - loss: 0.3342 - acc: 0.8636\n",
      "Epoch 88/100\n",
      "8000/8000 [==============================] - 1s 102us/step - loss: 0.3340 - acc: 0.8631\n",
      "Epoch 89/100\n",
      "8000/8000 [==============================] - 1s 100us/step - loss: 0.3337 - acc: 0.8650\n",
      "Epoch 90/100\n",
      "8000/8000 [==============================] - 1s 99us/step - loss: 0.3337 - acc: 0.8627\n",
      "Epoch 91/100\n",
      "8000/8000 [==============================] - 1s 99us/step - loss: 0.3341 - acc: 0.8652\n",
      "Epoch 92/100\n",
      "8000/8000 [==============================] - 1s 100us/step - loss: 0.3336 - acc: 0.8629\n",
      "Epoch 93/100\n",
      "8000/8000 [==============================] - 1s 105us/step - loss: 0.3341 - acc: 0.8641\n",
      "Epoch 94/100\n",
      "8000/8000 [==============================] - 1s 110us/step - loss: 0.3332 - acc: 0.8646\n",
      "Epoch 95/100\n",
      "8000/8000 [==============================] - 1s 101us/step - loss: 0.3345 - acc: 0.8642\n",
      "Epoch 96/100\n",
      "8000/8000 [==============================] - 1s 101us/step - loss: 0.3332 - acc: 0.8641\n",
      "Epoch 97/100\n",
      "8000/8000 [==============================] - 1s 101us/step - loss: 0.3334 - acc: 0.8657\n",
      "Epoch 98/100\n",
      "8000/8000 [==============================] - 1s 100us/step - loss: 0.3335 - acc: 0.8645\n",
      "Epoch 99/100\n",
      "8000/8000 [==============================] - 1s 101us/step - loss: 0.3331 - acc: 0.8644\n",
      "Epoch 100/100\n",
      "8000/8000 [==============================] - 1s 99us/step - loss: 0.3336 - acc: 0.8654\n"
     ]
    },
    {
     "data": {
      "text/plain": [
       "<keras.callbacks.History at 0x20d11831d68>"
      ]
     },
     "execution_count": 9,
     "metadata": {},
     "output_type": "execute_result"
    }
   ],
   "source": [
    "classifier.fit(X_train, y_train, batch_size = 10, epochs = 100)"
   ]
  },
  {
   "cell_type": "markdown",
   "metadata": {},
   "source": [
    "## Predicting the Test set results"
   ]
  },
  {
   "cell_type": "code",
   "execution_count": 10,
   "metadata": {},
   "outputs": [
    {
     "name": "stdout",
     "output_type": "stream",
     "text": [
      "[[False]\n",
      " [False]\n",
      " [False]\n",
      " ...\n",
      " [False]\n",
      " [False]\n",
      " [False]]\n"
     ]
    }
   ],
   "source": [
    "y_pred = classifier.predict(X_test)\n",
    "y_pred = (y_pred > 0.5)\n",
    "print(y_pred)"
   ]
  },
  {
   "cell_type": "markdown",
   "metadata": {},
   "source": [
    "## Making the Confusion Matrix"
   ]
  },
  {
   "cell_type": "code",
   "execution_count": 11,
   "metadata": {},
   "outputs": [],
   "source": [
    "from sklearn.metrics import confusion_matrix\n",
    "cm = confusion_matrix(y_test, y_pred)"
   ]
  },
  {
   "cell_type": "code",
   "execution_count": 12,
   "metadata": {},
   "outputs": [
    {
     "data": {
      "text/plain": [
       "array([[1523,   72],\n",
       "       [ 203,  202]], dtype=int64)"
      ]
     },
     "execution_count": 12,
     "metadata": {},
     "output_type": "execute_result"
    }
   ],
   "source": [
    "cm"
   ]
  },
  {
   "cell_type": "code",
   "execution_count": 13,
   "metadata": {},
   "outputs": [
    {
     "data": {
      "text/plain": [
       "0.8585"
      ]
     },
     "execution_count": 13,
     "metadata": {},
     "output_type": "execute_result"
    }
   ],
   "source": [
    "accuracy = (1511 + 206)/(2000)\n",
    "accuracy"
   ]
  },
  {
   "cell_type": "markdown",
   "metadata": {},
   "source": [
    "# HOMEWORK EXERCISE"
   ]
  },
  {
   "cell_type": "markdown",
   "metadata": {},
   "source": [
    "Homework Instruction\n",
    "\n",
    "\n",
    "\n",
    "Use our ANN model to predict if the customer with the following informations will leave the bank: \n",
    "\n",
    "Geography: France\n",
    "\n",
    "Credit Score: 600\n",
    "\n",
    "Gender: Male\n",
    "\n",
    "Age: 40 years old\n",
    "\n",
    "Tenure: 3 years\n",
    "\n",
    "Balance: $60000\n",
    "\n",
    "Number of Products: 2\n",
    "\n",
    "Does this customer have a credit card ? Yes\n",
    "\n",
    "Is this customer an Active Member: Yes\n",
    "\n",
    "Estimated Salary: $50000\n",
    "\n",
    "\n",
    "So should we say goodbye to that customer ?"
   ]
  },
  {
   "cell_type": "markdown",
   "metadata": {},
   "source": [
    "## Solution"
   ]
  },
  {
   "cell_type": "code",
   "execution_count": 14,
   "metadata": {},
   "outputs": [
    {
     "name": "stderr",
     "output_type": "stream",
     "text": [
      "C:\\ProgramData\\Anaconda3\\lib\\site-packages\\sklearn\\utils\\validation.py:595: DataConversionWarning: Data with input dtype int32 was converted to float64 by StandardScaler.\n",
      "  warnings.warn(msg, DataConversionWarning)\n"
     ]
    }
   ],
   "source": [
    "new_prediction = classifier.predict(sc.transform(np.array([[0,0,600,1,40,3,60000,2,1,1,50000]])))\n",
    "new_prediction = (new_prediction > 0.5)"
   ]
  },
  {
   "cell_type": "code",
   "execution_count": 15,
   "metadata": {},
   "outputs": [
    {
     "data": {
      "text/plain": [
       "array([[False]])"
      ]
     },
     "execution_count": 15,
     "metadata": {},
     "output_type": "execute_result"
    }
   ],
   "source": [
    "new_prediction"
   ]
  },
  {
   "cell_type": "markdown",
   "metadata": {},
   "source": [
    "###  It does not leave the bank"
   ]
  }
 ],
 "metadata": {
  "kernelspec": {
   "display_name": "Python 3",
   "language": "python",
   "name": "python3"
  },
  "language_info": {
   "codemirror_mode": {
    "name": "ipython",
    "version": 3
   },
   "file_extension": ".py",
   "mimetype": "text/x-python",
   "name": "python",
   "nbconvert_exporter": "python",
   "pygments_lexer": "ipython3",
   "version": "3.7.1"
  }
 },
 "nbformat": 4,
 "nbformat_minor": 2
}
